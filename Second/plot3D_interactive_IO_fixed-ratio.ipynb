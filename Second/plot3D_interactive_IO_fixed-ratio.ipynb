{
 "cells": [
  {
   "cell_type": "code",
   "execution_count": 25,
   "id": "097c5fb6",
   "metadata": {},
   "outputs": [],
   "source": [
    "import os\n",
    "import json\n",
    "import pandas as pd\n",
    "import numpy as np\n",
    "import torch\n",
    "from torch import nn\n",
    "import plotly.graph_objects as go\n",
    "\n",
    "def plot_3d_response_pf_ratio_surface(\n",
    "    run_folder: str,\n",
    "    fold: int,\n",
    "    test_csv: str,\n",
    "    sample_index: int,\n",
    "    fluid_range: tuple[float,float],\n",
    "    pf_ratio_range: tuple[float,float],\n",
    "    n_fluid: int = 50,\n",
    "    n_ratio: int = 50,\n",
    "    show_GEL: bool = True,\n",
    "    show_SLKW: bool = True,\n",
    "    show_XLINK: bool = True\n",
    "):\n",
    "    \"\"\"\n",
    "    Interactive 3D surfaces per fluid type:\n",
    "      X = Total.Fluid\n",
    "      Y = Propellant/Fluid ratio\n",
    "      Z = predicted Output1\n",
    "    Marks the actual sample point.\n",
    "    Reads `include_ratio_features` from hyperparams.json.\n",
    "    `show_GEL`, `show_SLKW`, `show_XLINK` toggle which fluids to include.\n",
    "    \"\"\"\n",
    "    # Column names\n",
    "    gpi_col           = \"GPI (gross perforated interval ft)\"\n",
    "    prop_per_gpi_col  = \"Proppant.per.GPI..lb.ft.\"\n",
    "    fluid_per_gpi_col = \"Fluid.per.GPI..gal.ft.\"\n",
    "    total_prop_col    = \"Total.Proppant.Volume\"\n",
    "    total_fluid_col   = \"Total.Fluid\"\n",
    "    fluid_type_col    = \"Fluid.Type\"\n",
    "    output1_col       = \"BOE_Prodoction_2 year cum\"\n",
    "\n",
    "    # Load hyperparams & norms\n",
    "    run_id = os.path.basename(os.path.normpath(run_folder))\n",
    "    hp = json.load(open(os.path.join(run_folder, f\"{run_id}_hyperparams.json\")))\n",
    "    norms = json.load(open(os.path.join(run_folder, f\"{run_id}_norms.json\")))\n",
    "\n",
    "    layer_dims = hp[\"layer_dims\"]\n",
    "    activations = hp[\"activations\"]\n",
    "    include_ratio_features = hp.get(\"include_ratio_features\", True)\n",
    "\n",
    "    # Handle norms y_mean/y_std possibly list\n",
    "    raw_mean = norms[\"y_mean\"]\n",
    "    raw_std  = norms[\"y_std\"]\n",
    "    y1_mean = raw_mean[0] if isinstance(raw_mean, (list,tuple)) else raw_mean\n",
    "    y1_std  = raw_std[0]  if isinstance(raw_std,  (list,tuple)) else raw_std\n",
    "\n",
    "    x_mean = norms[\"x_mean\"]\n",
    "    x_std  = norms[\"x_std\"]\n",
    "\n",
    "    # Load test data & pick sample\n",
    "    df = pd.read_csv(test_csv)\n",
    "    sample = df.iloc[sample_index]\n",
    "    gpi = float(sample[gpi_col])\n",
    "    sf  = float(sample[total_fluid_col])\n",
    "    sp  = float(sample[total_prop_col])\n",
    "    st  = sample[fluid_type_col]\n",
    "    y1_true = float(sample[output1_col])\n",
    "    sample_ratio = sp / sf\n",
    "\n",
    "    # Build feature lists\n",
    "    numeric_feats = list(x_mean.keys())\n",
    "    if not include_ratio_features:\n",
    "        numeric_feats = [\n",
    "            c for c in numeric_feats\n",
    "            if c not in (prop_per_gpi_col, fluid_per_gpi_col)\n",
    "        ]\n",
    "    all_types = sorted(df[fluid_type_col].unique())\n",
    "    # determine which types to plot\n",
    "    plot_types = []\n",
    "    if show_GEL:\n",
    "        plot_types += [t for t in all_types if t.upper()==\"GEL\"]\n",
    "    if show_SLKW:\n",
    "        plot_types += [t for t in all_types if t.upper()==\"SLKW\"]\n",
    "    if show_XLINK:\n",
    "        plot_types += [t for t in all_types if t.upper()==\"XLINK\"]\n",
    "    plot_types = list(dict.fromkeys(plot_types))\n",
    "\n",
    "    # dummy features always full set\n",
    "    dummy_feats_all = [f\"{fluid_type_col}_{t}\" for t in all_types]\n",
    "\n",
    "    # Define & load model\n",
    "    class MLPNet(nn.Module):\n",
    "        def __init__(self, in_dim, hidden_dims, activations, out_dim):\n",
    "            super().__init__()\n",
    "            layers, dims = [], [in_dim] + hidden_dims\n",
    "            for i,h in enumerate(hidden_dims):\n",
    "                layers.append(nn.Linear(dims[i], dims[i+1]))\n",
    "                act = activations[i].lower()\n",
    "                if   act=='relu':     layers.append(nn.ReLU())\n",
    "                elif act=='tanh':     layers.append(nn.Tanh())\n",
    "                elif act=='sigmoid':  layers.append(nn.Sigmoid())\n",
    "                elif act=='softplus': layers.append(nn.Softplus())\n",
    "                else: raise ValueError(f\"Unknown activation '{activations[i]}'\")\n",
    "            layers.append(nn.Linear(dims[-1], out_dim))\n",
    "            self.net = nn.Sequential(*layers)\n",
    "        def forward(self, x):\n",
    "            return self.net(x)\n",
    "\n",
    "    device = 'cuda' if torch.cuda.is_available() else 'cpu'\n",
    "    model = MLPNet(\n",
    "        in_dim      = len(numeric_feats) + len(dummy_feats_all),\n",
    "        hidden_dims = layer_dims,\n",
    "        activations = activations,\n",
    "        out_dim     = 2\n",
    "    ).to(device)\n",
    "    model.load_state_dict(torch.load(\n",
    "        os.path.join(run_folder, f\"{run_id}_fold{fold}.pth\"),\n",
    "        map_location=device\n",
    "    ))\n",
    "    model.eval()\n",
    "\n",
    "    # Build grid in (fluid, ratio)\n",
    "    fluid_vals = np.linspace(fluid_range[0], fluid_range[1], n_fluid)\n",
    "    ratio_vals = np.linspace(pf_ratio_range[0], pf_ratio_range[1], n_ratio)\n",
    "    Fg, Rg = np.meshgrid(fluid_vals, ratio_vals)\n",
    "\n",
    "    # Baseline features dict\n",
    "    base = {f: float(sample[f]) for f in numeric_feats}\n",
    "    for d in dummy_feats_all:\n",
    "        base[d] = 0.0\n",
    "\n",
    "    # Create Plotly figure\n",
    "    fig = go.Figure()\n",
    "\n",
    "    # Loop per selected fluid type\n",
    "    for ft in plot_types:\n",
    "        # set one-hot among full dummy set\n",
    "        for d in dummy_feats_all:\n",
    "            base[d] = 1.0 if d == f\"{fluid_type_col}_{ft}\" else 0.0\n",
    "\n",
    "        Z = np.zeros_like(Fg)\n",
    "        for i in range(len(ratio_vals)):\n",
    "            for j in range(len(fluid_vals)):\n",
    "                f = fluid_vals[j]\n",
    "                r = ratio_vals[i]\n",
    "                p = f * r\n",
    "                base[total_fluid_col] = f\n",
    "                base[total_prop_col]  = p\n",
    "                if include_ratio_features:\n",
    "                    base[prop_per_gpi_col]  = p / gpi\n",
    "                    base[fluid_per_gpi_col] = f / gpi\n",
    "                x_vec = [(base[c]-x_mean[c])/x_std[c] for c in numeric_feats]\n",
    "                x_vec += [base[d] for d in dummy_feats_all]\n",
    "                Xi = torch.tensor([x_vec], dtype=torch.float32).to(device)\n",
    "                with torch.no_grad():\n",
    "                    out = model(Xi).cpu().numpy().flatten()\n",
    "                Z[i,j] = float(out[0] * y1_std + y1_mean)\n",
    "\n",
    "        fig.add_trace(go.Surface(\n",
    "            x=fluid_vals,\n",
    "            y=ratio_vals,\n",
    "            z=Z,\n",
    "            name=ft,\n",
    "            showscale=False,\n",
    "            opacity=0.75\n",
    "        ))\n",
    "\n",
    "    # Mark the actual sample point\n",
    "    fig.add_trace(go.Scatter3d(\n",
    "        x=[sf], y=[sample_ratio], z=[y1_true],\n",
    "        mode='markers',\n",
    "        marker=dict(size=6, color='red'),\n",
    "        name='actual'\n",
    "    ))\n",
    "\n",
    "    fig.update_layout(\n",
    "        title=f\"{output1_col} vs Total Fluid & Propellant/Fluid Ratio\",\n",
    "        scene=dict(\n",
    "            xaxis_title=\"Total Fluid\",\n",
    "            yaxis_title=\"Propellant/Fluid Ratio\",\n",
    "            zaxis_title=output1_col\n",
    "        ),\n",
    "        legend_title=\"Fluid Type\"\n",
    "    )\n",
    "\n",
    "    # Open in browser\n",
    "    fig.show(renderer=\"browser\")\n",
    "\n"
   ]
  },
  {
   "cell_type": "code",
   "execution_count": 26,
   "id": "26450e59",
   "metadata": {},
   "outputs": [],
   "source": [
    "fluid_range = (1e5, 2e7)\n",
    "sample_index=1\n",
    "pf_ratio_range=(1, 1.4)\n",
    "test=\"/home/kamiar/chevron/Eagle-Ford/First/data/Eagle Ford Data(Eagle Ford)_test.csv\""
   ]
  },
  {
   "cell_type": "markdown",
   "id": "063f7797",
   "metadata": {},
   "source": [
    "# relu"
   ]
  },
  {
   "cell_type": "code",
   "execution_count": 27,
   "id": "7d741d25",
   "metadata": {},
   "outputs": [
    {
     "name": "stderr",
     "output_type": "stream",
     "text": [
      "gio: http://127.0.0.1:46175: Operation not supported\n"
     ]
    }
   ],
   "source": [
    "plot_3d_response_pf_ratio_surface(\n",
    "    run_folder=\"/home/kamiar/chevron/Eagle-Ford/Second/d3feed88\",\n",
    "    fold=1,\n",
    "    test_csv=test,\n",
    "    sample_index=sample_index,\n",
    "    fluid_range=fluid_range,\n",
    "    pf_ratio_range=pf_ratio_range,\n",
    "    show_GEL=True,\n",
    "    show_SLKW=False,\n",
    "    show_XLINK=False\n",
    ")"
   ]
  },
  {
   "cell_type": "markdown",
   "id": "beea5947",
   "metadata": {},
   "source": [
    "# softplus"
   ]
  },
  {
   "cell_type": "code",
   "execution_count": 28,
   "id": "3d87dfd8",
   "metadata": {},
   "outputs": [
    {
     "name": "stderr",
     "output_type": "stream",
     "text": [
      "gio: http://127.0.0.1:41355: Operation not supported\n"
     ]
    }
   ],
   "source": [
    "plot_3d_response_pf_ratio_surface(\n",
    "    run_folder=\"/home/kamiar/chevron/Eagle-Ford/Second/4eb5e823\",\n",
    "    fold=1,\n",
    "    test_csv=test,\n",
    "    sample_index=sample_index,\n",
    "    fluid_range=fluid_range,\n",
    "    pf_ratio_range=pf_ratio_range,\n",
    "    show_GEL=True,\n",
    "    show_SLKW=False,\n",
    "    show_XLINK=False\n",
    ")"
   ]
  },
  {
   "cell_type": "markdown",
   "id": "9a4aadd4",
   "metadata": {},
   "source": [
    "# relu rdundatn removed"
   ]
  },
  {
   "cell_type": "code",
   "execution_count": 29,
   "id": "ae2fe0ca",
   "metadata": {},
   "outputs": [
    {
     "name": "stderr",
     "output_type": "stream",
     "text": [
      "gio: http://127.0.0.1:37753: Operation not supported\n"
     ]
    }
   ],
   "source": [
    "plot_3d_response_pf_ratio_surface(\n",
    "    run_folder=\"/home/kamiar/chevron/Eagle-Ford/Second/5044f3a3\",\n",
    "    fold=6,\n",
    "    test_csv=test,\n",
    "    sample_index=sample_index,\n",
    "    fluid_range=fluid_range,\n",
    "    pf_ratio_range=pf_ratio_range,\n",
    "    show_GEL=True,\n",
    "    show_SLKW=False,\n",
    "    show_XLINK=False\n",
    ")"
   ]
  },
  {
   "cell_type": "markdown",
   "id": "be14a104",
   "metadata": {},
   "source": [
    "# redundatn removed softplus"
   ]
  },
  {
   "cell_type": "code",
   "execution_count": 32,
   "id": "5aaa86ac",
   "metadata": {},
   "outputs": [
    {
     "name": "stderr",
     "output_type": "stream",
     "text": [
      "gio: http://127.0.0.1:37405: Operation not supported\n"
     ]
    }
   ],
   "source": [
    "plot_3d_response_pf_ratio_surface(\n",
    "    run_folder=\"/home/kamiar/chevron/Eagle-Ford/Second/98a1fcb5\",\n",
    "    fold=6,\n",
    "    test_csv=test,\n",
    "    sample_index=sample_index,\n",
    "    fluid_range=fluid_range,\n",
    "    pf_ratio_range=pf_ratio_range,\n",
    "    show_GEL=True,\n",
    "    show_SLKW=False,\n",
    "    show_XLINK=False\n",
    ")"
   ]
  }
 ],
 "metadata": {
  "kernelspec": {
   "display_name": ".venv",
   "language": "python",
   "name": "python3"
  },
  "language_info": {
   "codemirror_mode": {
    "name": "ipython",
    "version": 3
   },
   "file_extension": ".py",
   "mimetype": "text/x-python",
   "name": "python",
   "nbconvert_exporter": "python",
   "pygments_lexer": "ipython3",
   "version": "3.12.3"
  }
 },
 "nbformat": 4,
 "nbformat_minor": 5
}
