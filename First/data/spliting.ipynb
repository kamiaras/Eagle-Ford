{
 "cells": [
  {
   "cell_type": "code",
   "execution_count": 2,
   "id": "fd4e9a83",
   "metadata": {},
   "outputs": [
    {
     "name": "stdout",
     "output_type": "stream",
     "text": [
      "Train + Validation (718 rows) saved to: First/data/Eagle Ford Data(Eagle Ford)_train_val.csv\n",
      "Test             (127 rows) saved to: First/data/Eagle Ford Data(Eagle Ford)_test.csv\n"
     ]
    }
   ],
   "source": [
    "import pandas as pd\n",
    "from sklearn.model_selection import train_test_split\n",
    "from pathlib import Path\n",
    "\n",
    "# ─── Configuration ─────────────────────────────────────────────────────────────\n",
    "input_file   = Path('First/data/Eagle Ford Data(Eagle Ford).csv')     # <-- change this to your filename\n",
    "test_frac    = 0.15                 # 15% for test\n",
    "random_state = 42                   # for reproducibility\n",
    "# ────────────────────────────────────────────────────────────────────────────────\n",
    "\n",
    "# 1) Load the full dataset\n",
    "df = pd.read_csv(input_file)\n",
    "\n",
    "# 2) Split off test set\n",
    "train_val_df, test_df = train_test_split(\n",
    "    df,\n",
    "    test_size=test_frac,\n",
    "    random_state=random_state,\n",
    "    shuffle=True\n",
    ")\n",
    "\n",
    "# 3) Build output paths\n",
    "train_val_path = input_file.parent / f\"{input_file.stem}_train_val{input_file.suffix}\"\n",
    "test_path      = input_file.parent / f\"{input_file.stem}_test{input_file.suffix}\"\n",
    "\n",
    "# 4) Save to CSV\n",
    "train_val_df.to_csv(train_val_path, index=False)\n",
    "test_df.to_csv(test_path,      index=False)\n",
    "\n",
    "print(f\"Train + Validation ({len(train_val_df)} rows) saved to: {train_val_path}\")\n",
    "print(f\"Test             ({len(test_df)} rows) saved to: {test_path}\")\n"
   ]
  }
 ],
 "metadata": {
  "kernelspec": {
   "display_name": ".venv",
   "language": "python",
   "name": "python3"
  },
  "language_info": {
   "codemirror_mode": {
    "name": "ipython",
    "version": 3
   },
   "file_extension": ".py",
   "mimetype": "text/x-python",
   "name": "python",
   "nbconvert_exporter": "python",
   "pygments_lexer": "ipython3",
   "version": "3.12.3"
  }
 },
 "nbformat": 4,
 "nbformat_minor": 5
}
